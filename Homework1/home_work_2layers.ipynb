{
 "cells": [
  {
   "cell_type": "code",
   "execution_count": 1,
   "metadata": {},
   "outputs": [],
   "source": [
    "from sklearn.datasets import make_blobs, make_classification\n",
    "from matplotlib import pyplot\n",
    "from pandas import DataFrame\n",
    "from torchsummary import summary\n",
    "from datetime import datetime\n",
    "\n",
    "import pandas as pd\n",
    "from sklearn.model_selection import train_test_split\n",
    "from sklearn.metrics import accuracy_score, precision_score, recall_score\n",
    "\n",
    "import torch\n",
    "import torch.nn as nn\n",
    "import torch.nn.functional as F\n",
    "from torch.autograd import Variable\n"
   ]
  },
  {
   "cell_type": "code",
   "execution_count": 2,
   "metadata": {},
   "outputs": [],
   "source": [
    "from torch.utils.tensorboard import SummaryWriter"
   ]
  },
  {
   "cell_type": "code",
   "execution_count": 3,
   "metadata": {},
   "outputs": [
    {
     "data": {
      "image/png": "[encoded data removed]",
      "text/plain": [
       "<Figure size 432x288 with 1 Axes>"
      ]
     },
     "metadata": {
      "needs_background": "light"
     },
     "output_type": "display_data"
    }
   ],
   "source": [
    "n_features=2\n",
    "classes  = 2\n",
    "# generate 2d classification dataset\n",
    "# X, y = make_classification(n_samples=1000, centers=classes, n_features=n_features, random_state=10)\n",
    "X, y = make_classification(n_samples=1000, n_features=n_features, n_informative=2, n_redundant=0, n_repeated=0, n_classes=classes, random_state=22)\n",
    "# scatter plot, dots colored by class value\n",
    "df = DataFrame(dict(x=X[:,0], y=X[:,1], label=y))\n",
    "colors = {0:'red', 1:'blue', 2:'green'}\n",
    "fig, ax = pyplot.subplots()\n",
    "grouped = df.groupby('label')\n",
    "for key, group in grouped:\n",
    "    group.plot(ax=ax, kind='scatter', x='x', y='y', label=key, color=colors[key])\n",
    "pyplot.show()"
   ]
  },
  {
   "cell_type": "code",
   "execution_count": 4,
   "metadata": {},
   "outputs": [],
   "source": [
    "class TwoLayersNet(nn.Module):\n",
    "    # define nn\n",
    "    def __init__(self):\n",
    "        super(TwoLayersNet, self).__init__()\n",
    "        self.fc1 = nn.Linear(n_features, 2)\n",
    "        self.fc2 = nn.Linear(2, 10)\n",
    "        self.fc3 = nn.Linear(10, classes)\n",
    "        self.softmax = nn.Softmax(dim=1)\n",
    "\n",
    "    def forward(self, X):\n",
    "        X = F.relu(self.fc1(X))\n",
    "        X = self.fc2(X)\n",
    "        X = self.fc3(X)\n",
    "        X = self.softmax(X)\n",
    "\n",
    "        return X"
   ]
  },
  {
   "cell_type": "code",
   "execution_count": 5,
   "metadata": {},
   "outputs": [],
   "source": [
    "train_X, test_X, train_y, test_y = train_test_split(X,y, test_size=0.3)\n",
    "\n",
    "# wrap up with Variable in pytorch\n",
    "train_X = Variable(torch.Tensor(train_X).float())\n",
    "test_X = Variable(torch.Tensor(test_X).float())\n",
    "train_y = Variable(torch.Tensor(train_y).long())\n",
    "test_y = Variable(torch.Tensor(test_y).long())"
   ]
  },
  {
   "cell_type": "code",
   "execution_count": 6,
   "metadata": {},
   "outputs": [],
   "source": [
    "# device = torch.device(\"cuda\" if torch.cuda.is_available() else \"cpu\") # PyTorch v0.4.0\n",
    "net = TwoLayersNet()\n",
    "\n",
    "criterion = nn.CrossEntropyLoss()# cross entropy loss\n",
    "\n",
    "optimizer = torch.optim.SGD(net.parameters(), lr=0.01)"
   ]
  },
  {
   "cell_type": "code",
   "execution_count": 8,
   "metadata": {},
   "outputs": [],
   "source": [
    "model_name = 'TwoLayersNet'\n",
    "now = datetime.now() # current date and time\n",
    "log_name = '{}_{}'.format(model_name, now.strftime('%Y%m%d_%H%M%S'))\n",
    "writer = SummaryWriter('logs/{}'.format(log_name))"
   ]
  },
  {
   "cell_type": "code",
   "execution_count": 9,
   "metadata": {},
   "outputs": [
    {
     "name": "stdout",
     "output_type": "stream",
     "text": [
      "number of epoch 0 loss tensor(0.7107)\n",
      "number of epoch 100 loss tensor(0.7042)\n",
      "number of epoch 200 loss tensor(0.6994)\n",
      "number of epoch 300 loss tensor(0.6956)\n",
      "number of epoch 400 loss tensor(0.6925)\n",
      "number of epoch 500 loss tensor(0.6895)\n",
      "number of epoch 600 loss tensor(0.6864)\n",
      "number of epoch 700 loss tensor(0.6830)\n",
      "number of epoch 800 loss tensor(0.6790)\n",
      "number of epoch 900 loss tensor(0.6741)\n",
      "prediction accuracy 0.7233333333333334\n",
      "macro precision 0.7632674826062669\n",
      "micro precision 0.7233333333333334\n",
      "macro recall 0.7307692307692307\n",
      "micro recall 0.7233333333333334\n"
     ]
    }
   ],
   "source": [
    "Losses = []\n",
    "for epoch in range(1000):\n",
    "    optimizer.zero_grad()\n",
    "    out = net(train_X)\n",
    "    loss = criterion(out, train_y)\n",
    "    loss.backward()\n",
    "    optimizer.step()\n",
    "\n",
    "    # print(loss.data)\n",
    "    Losses.append(loss.data)\n",
    "    writer.add_scalar('loss/train', loss.item(), epoch)\n",
    "    if epoch % 100 == 0:\n",
    "        print('number of epoch', epoch, 'loss', loss.data)\n",
    "\n",
    "# print(\"Losses: \", Losses)\n",
    "predict_out = net(test_X)\n",
    "_, predict_y = torch.max(predict_out, 1)\n",
    "\n",
    "print('prediction accuracy', accuracy_score(test_y.data, predict_y.data))\n",
    "\n",
    "print('macro precision', precision_score(test_y.data, predict_y.data, average='macro'))\n",
    "print('micro precision', precision_score(test_y.data, predict_y.data, average='micro'))\n",
    "print('macro recall', recall_score(test_y.data, predict_y.data, average='macro'))\n",
    "print('micro recall', recall_score(test_y.data, predict_y.data, average='micro'))"
   ]
  },
  {
   "cell_type": "code",
   "execution_count": 11,
   "metadata": {},
   "outputs": [
    {
     "name": "stdout",
     "output_type": "stream",
     "text": [
      "----------------------------------------------------------------\n",
      "        Layer (type)               Output Shape         Param #\n",
      "================================================================\n",
      "            Linear-1                 [-1, 1, 2]               6\n",
      "            Linear-2                [-1, 1, 10]              30\n",
      "            Linear-3                 [-1, 1, 2]              22\n",
      "           Softmax-4                 [-1, 1, 2]               0\n",
      "================================================================\n",
      "Total params: 58\n",
      "Trainable params: 58\n",
      "Non-trainable params: 0\n",
      "----------------------------------------------------------------\n",
      "Input size (MB): 0.00\n",
      "Forward/backward pass size (MB): 0.00\n",
      "Params size (MB): 0.00\n",
      "Estimated Total Size (MB): 0.00\n",
      "----------------------------------------------------------------\n",
      "<class '__main__.TwoLayersNet'>\n"
     ]
    }
   ],
   "source": [
    "device = torch.device(\"cuda\" if torch.cuda.is_available() else \"cpu\") # PyTorch v0.4.0\n",
    "net_gpu = TwoLayersNet().to(device)\n",
    "summary(net_gpu, input_size=(1,2))\n",
    "print(TwoLayersNet)"
   ]
  },
  {
   "cell_type": "code",
   "execution_count": null,
   "metadata": {},
   "outputs": [],
   "source": []
  }
 ],
 "metadata": {
  "kernelspec": {
   "display_name": "Python 3.8.10 ('pytorch_env')",
   "language": "python",
   "name": "python3"
  },
  "language_info": {
   "codemirror_mode": {
    "name": "ipython",
    "version": 3
   },
   "file_extension": ".py",
   "mimetype": "text/x-python",
   "name": "python",
   "nbconvert_exporter": "python",
   "pygments_lexer": "ipython3",
   "version": "3.8.10"
  },
  "orig_nbformat": 4,
  "vscode": {
   "interpreter": {
    "hash": "ecfa7e334c48ffa1276ac839a90ca9ca5c13d48e1548cfe2fc632ae3f15123f1"
   }
  }
 },
 "nbformat": 4,
 "nbformat_minor": 2
}
